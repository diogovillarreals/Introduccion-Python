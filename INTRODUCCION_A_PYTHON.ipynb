{
  "metadata": {
    "kernelspec": {
      "language": "python",
      "display_name": "Python 3",
      "name": "python3"
    },
    "language_info": {
      "name": "python",
      "version": "3.11.13",
      "mimetype": "text/x-python",
      "codemirror_mode": {
        "name": "ipython",
        "version": 3
      },
      "pygments_lexer": "ipython3",
      "nbconvert_exporter": "python",
      "file_extension": ".py"
    },
    "kaggle": {
      "accelerator": "none",
      "dataSources": [],
      "dockerImageVersionId": 31153,
      "isInternetEnabled": false,
      "language": "python",
      "sourceType": "notebook",
      "isGpuEnabled": false
    },
    "colab": {
      "name": "INTRODUCCION A PYTHON",
      "provenance": [],
      "include_colab_link": true
    }
  },
  "nbformat_minor": 0,
  "nbformat": 4,
  "cells": [
    {
      "cell_type": "markdown",
      "metadata": {
        "id": "view-in-github",
        "colab_type": "text"
      },
      "source": [
        "<a href=\"https://colab.research.google.com/github/diogovillarreals/Introduccion-Python/blob/main/INTRODUCCION_A_PYTHON.ipynb\" target=\"_parent\"><img src=\"https://colab.research.google.com/assets/colab-badge.svg\" alt=\"Open In Colab\"/></a>"
      ]
    },
    {
      "cell_type": "code",
      "source": [],
      "metadata": {
        "_uuid": "8f2839f25d086af736a60e9eeb907d3b93b6e0e5",
        "_cell_guid": "b1076dfc-b9ad-4769-8c92-a6c4dae69d19",
        "trusted": true,
        "id": "VkYGAUzFiai5"
      },
      "outputs": [],
      "execution_count": null
    },
    {
      "cell_type": "markdown",
      "source": [
        "**Ejercicios Introduccion a Python**\n",
        "\n",
        "1. Hacer un hola mundo basico"
      ],
      "metadata": {
        "id": "WGOEyQgziai6"
      }
    },
    {
      "cell_type": "code",
      "source": [
        "print(\"Hola Mundo\")"
      ],
      "metadata": {
        "trusted": true,
        "execution": {
          "iopub.status.busy": "2025-10-18T21:30:12.570932Z",
          "iopub.execute_input": "2025-10-18T21:30:12.571406Z",
          "iopub.status.idle": "2025-10-18T21:30:12.576619Z",
          "shell.execute_reply.started": "2025-10-18T21:30:12.571373Z",
          "shell.execute_reply": "2025-10-18T21:30:12.575624Z"
        },
        "id": "AhKhUBWOiai7",
        "outputId": "ec0d5429-673a-4081-bdeb-46b8c3b5e65a"
      },
      "outputs": [
        {
          "name": "stdout",
          "text": "Hola Mundo\n",
          "output_type": "stream"
        }
      ],
      "execution_count": null
    },
    {
      "cell_type": "markdown",
      "source": [
        "2. Hacer una suma sin variables"
      ],
      "metadata": {
        "id": "DhQ9OXqRiai7"
      }
    },
    {
      "cell_type": "code",
      "source": [
        "2+5"
      ],
      "metadata": {
        "trusted": true,
        "execution": {
          "iopub.status.busy": "2025-10-18T21:30:12.578344Z",
          "iopub.execute_input": "2025-10-18T21:30:12.578704Z",
          "iopub.status.idle": "2025-10-18T21:30:12.598478Z",
          "shell.execute_reply.started": "2025-10-18T21:30:12.578675Z",
          "shell.execute_reply": "2025-10-18T21:30:12.59754Z"
        },
        "id": "xDRbp7ZWiai7",
        "outputId": "e7c44081-760d-4df2-bb17-f23452a1370b"
      },
      "outputs": [
        {
          "execution_count": 78,
          "output_type": "execute_result",
          "data": {
            "text/plain": "7"
          },
          "metadata": {}
        }
      ],
      "execution_count": null
    },
    {
      "cell_type": "markdown",
      "source": [
        "3. Declarar variables"
      ],
      "metadata": {
        "id": "VIcdHcFpiai7"
      }
    },
    {
      "cell_type": "code",
      "source": [
        "x = 3\n",
        "y = 5\n",
        "z = x+y\n",
        "print (z)"
      ],
      "metadata": {
        "trusted": true,
        "execution": {
          "iopub.status.busy": "2025-10-18T21:30:12.599878Z",
          "iopub.execute_input": "2025-10-18T21:30:12.60015Z",
          "iopub.status.idle": "2025-10-18T21:30:12.615154Z",
          "shell.execute_reply.started": "2025-10-18T21:30:12.600129Z",
          "shell.execute_reply": "2025-10-18T21:30:12.614131Z"
        },
        "id": "Ilf1tg2Iiai8",
        "outputId": "9c7f62b2-d7cc-40cb-a07e-b212f3e052d0"
      },
      "outputs": [
        {
          "name": "stdout",
          "text": "8\n",
          "output_type": "stream"
        }
      ],
      "execution_count": null
    },
    {
      "cell_type": "markdown",
      "source": [
        "4. Ejercicios de estructuras de control"
      ],
      "metadata": {
        "id": "enZMQ2ojiai8"
      }
    },
    {
      "cell_type": "code",
      "source": [
        "#Asigancion de variable y de lista\n",
        "\n",
        "x = 7\n",
        "numeros = [1,2,3,4,5,6,7,8]\n",
        "\n",
        "#Estructura de control if tomando en cuanta la variable x\n",
        "if x > 5:\n",
        "    print (\"Numero mayor a 5\")\n",
        "else:\n",
        "    print (\"Numero menor a 5\")\n",
        "\n",
        "#Estructura de control for con range 10\n",
        "\n",
        "for i in range(10):\n",
        "    print(i)\n",
        "print(\"\")\n",
        "\n",
        "#Removemos el numnero 8 de la lista numeros\n",
        "\n",
        "numeros.remove(8)\n",
        "\n",
        "for i in numeros:\n",
        "    print(i)\n",
        "print(\"\")\n",
        "\n",
        "#Agregamos el numero 9 en la lista numeros\n",
        "\n",
        "numeros.append(9)\n",
        "\n",
        "for i in numeros:\n",
        "    print(i)\n",
        "print(\"\")\n",
        ""
      ],
      "metadata": {
        "trusted": true,
        "execution": {
          "iopub.status.busy": "2025-10-18T21:30:12.616337Z",
          "iopub.execute_input": "2025-10-18T21:30:12.616586Z",
          "iopub.status.idle": "2025-10-18T21:30:12.637764Z",
          "shell.execute_reply.started": "2025-10-18T21:30:12.616566Z",
          "shell.execute_reply": "2025-10-18T21:30:12.636816Z"
        },
        "id": "X0_wkWT0iai8",
        "outputId": "784dd31b-3423-4cc8-df6f-e9a14d4b0d3c"
      },
      "outputs": [
        {
          "name": "stdout",
          "text": "Numero mayor a 5\n0\n1\n2\n3\n4\n5\n6\n7\n8\n9\n\n1\n2\n3\n4\n5\n6\n7\n\n1\n2\n3\n4\n5\n6\n7\n9\n\n",
          "output_type": "stream"
        }
      ],
      "execution_count": null
    },
    {
      "cell_type": "markdown",
      "source": [
        "5. Diccionario"
      ],
      "metadata": {
        "id": "1cS9Cuu5iai8"
      }
    },
    {
      "cell_type": "code",
      "source": [
        "#Declaro el diccionario y los componentes del mismo\n",
        "a = {'nombre': 'Diogo', 'edad':18, 'altura': 1.70}\n",
        "b = {'nombre': 'Adrian', 'edad':16, 'altura': 1.77}\n",
        "x = [a,b]\n",
        "#Hago un bucle for para recorrer el nombre de a y b\n",
        "for i in x:\n",
        "    print(i['nombre'])\n",
        "#Agrego la variable ID\n",
        "a['ID'] = '1755315817'\n",
        "b['ID'] = '1718022450'\n",
        "print (a)"
      ],
      "metadata": {
        "trusted": true,
        "execution": {
          "iopub.status.busy": "2025-10-18T21:30:12.639068Z",
          "iopub.execute_input": "2025-10-18T21:30:12.639442Z",
          "iopub.status.idle": "2025-10-18T21:30:12.656204Z",
          "shell.execute_reply.started": "2025-10-18T21:30:12.639408Z",
          "shell.execute_reply": "2025-10-18T21:30:12.654661Z"
        },
        "id": "R-UlaEXZiai8",
        "outputId": "c2b946c4-4394-444c-de5a-6da020024eab"
      },
      "outputs": [
        {
          "name": "stdout",
          "text": "Diogo\nAdrian\n{'nombre': 'Diogo', 'edad': 18, 'altura': 1.7, 'ID': '1755315817'}\n",
          "output_type": "stream"
        }
      ],
      "execution_count": null
    }
  ]
}