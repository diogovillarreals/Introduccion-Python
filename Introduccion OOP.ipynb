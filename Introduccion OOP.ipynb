{
 "cells": [
  {
   "cell_type": "markdown",
   "id": "c434e723",
   "metadata": {},
   "source": [
    "**Introduccion OOP**"
   ]
  },
  {
   "cell_type": "code",
   "execution_count": 700,
   "id": "66d5527a",
   "metadata": {},
   "outputs": [],
   "source": [
    "class compra:\n",
    "    def __init__(self,fecha=\"23/10/2025\"):\n",
    "        self.fecha=fecha\n",
    "        self.productos=[]\n",
    "        \n",
    "    def agregar(self,producto):\n",
    "        self.productos.append(producto)\n",
    "\n",
    "\n"
   ]
  },
  {
   "cell_type": "code",
   "execution_count": 701,
   "id": "bb477523",
   "metadata": {},
   "outputs": [],
   "source": [
    "class cliente:\n",
    "    def __init__(self, nombre,cedula, saldo=0.0, historial=[]):\n",
    "        self.nombre=nombre\n",
    "        self.cedula=cedula\n",
    "        self.saldo=saldo\n",
    "        self.historial=historial\n",
    "\n",
    "    def comprar(self, producto):\n",
    "        if self.saldo > producto.precio:\n",
    "            self.saldo-=producto.precio \n",
    "\n",
    "            nueva_compra = compra()\n",
    "            nueva_compra.agregar(producto)\n",
    "\n",
    "\n",
    "            self.historial.append(nueva_compra)\n",
    "        else:\n",
    "            print(\"Saldo Insuficiente\")\n",
    "\n",
    "    def imprimir_historial(self):\n",
    "        for transaccion in self.historial:\n",
    "            producto_comprado = transaccion.productos[0]\n",
    "            print(\"Fecha: \", transaccion.fecha,producto_comprado.nombre, producto_comprado.precio)\n",
    "            "
   ]
  },
  {
   "cell_type": "code",
   "execution_count": 702,
   "id": "1001503b",
   "metadata": {},
   "outputs": [],
   "source": [
    "class producto:\n",
    "    def __init__(self,nombre,precio):\n",
    "        self.nombre=nombre\n",
    "        self.precio=precio"
   ]
  },
  {
   "cell_type": "code",
   "execution_count": 703,
   "id": "3589b1eb",
   "metadata": {},
   "outputs": [],
   "source": [
    "c1=cliente(nombre=\"Juan\", cedula=\"123\", saldo=100)"
   ]
  },
  {
   "cell_type": "code",
   "execution_count": 704,
   "id": "95706fe6",
   "metadata": {},
   "outputs": [],
   "source": [
    "p1=producto(nombre=\"Cafe\", precio=5)"
   ]
  },
  {
   "cell_type": "code",
   "execution_count": 705,
   "id": "474ff1a3",
   "metadata": {},
   "outputs": [],
   "source": [
    "p2=producto(nombre=\"Pan\", precio=10)"
   ]
  },
  {
   "cell_type": "code",
   "execution_count": 706,
   "id": "a7db75bd",
   "metadata": {},
   "outputs": [],
   "source": [
    "p3=producto(nombre=\"Jamon\", precio=20)"
   ]
  },
  {
   "cell_type": "code",
   "execution_count": 707,
   "id": "0179e869",
   "metadata": {},
   "outputs": [],
   "source": [
    "c1.comprar(p1)\n",
    "c1.comprar(p2)\n",
    "c1.comprar(p3)\n",
    "c1.comprar(p1)\n",
    "c1.comprar(p2)\n",
    "c1.comprar(p3)\n",
    "c1.comprar(p1)\n",
    "c1.comprar(p2)"
   ]
  },
  {
   "cell_type": "code",
   "execution_count": 708,
   "id": "92059b4b",
   "metadata": {},
   "outputs": [
    {
     "name": "stdout",
     "output_type": "stream",
     "text": [
      "Fecha:  23/10/2025 Cafe 5\n",
      "Fecha:  23/10/2025 Pan 10\n",
      "Fecha:  23/10/2025 Jamon 20\n",
      "Fecha:  23/10/2025 Cafe 5\n",
      "Fecha:  23/10/2025 Pan 10\n",
      "Fecha:  23/10/2025 Jamon 20\n",
      "Fecha:  23/10/2025 Cafe 5\n",
      "Fecha:  23/10/2025 Pan 10\n"
     ]
    }
   ],
   "source": [
    "c1.imprimir_historial()"
   ]
  },
  {
   "cell_type": "code",
   "execution_count": 709,
   "id": "1d9e1217",
   "metadata": {},
   "outputs": [
    {
     "data": {
      "text/plain": [
       "15"
      ]
     },
     "execution_count": 709,
     "metadata": {},
     "output_type": "execute_result"
    }
   ],
   "source": [
    "c1.saldo"
   ]
  }
 ],
 "metadata": {
  "kernelspec": {
   "display_name": "Python 3",
   "language": "python",
   "name": "python3"
  },
  "language_info": {
   "codemirror_mode": {
    "name": "ipython",
    "version": 3
   },
   "file_extension": ".py",
   "mimetype": "text/x-python",
   "name": "python",
   "nbconvert_exporter": "python",
   "pygments_lexer": "ipython3",
   "version": "3.13.9"
  }
 },
 "nbformat": 4,
 "nbformat_minor": 5
}
