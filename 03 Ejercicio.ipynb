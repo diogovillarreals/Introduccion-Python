{
 "cells": [
  {
   "cell_type": "markdown",
   "id": "7d3027fc",
   "metadata": {},
   "source": [
    "# 03 Procesamiento de datos: \n",
    "#### Pasar de datos a información\n",
    "\n",
    "En este ejercicio vamos a manipular la base de datos de compras de un supermercado\n",
    "\n",
    "1. Importar la libreria pandas"
   ]
  },
  {
   "cell_type": "code",
   "execution_count": 386,
   "id": "1f2fa46d",
   "metadata": {},
   "outputs": [],
   "source": [
    "#Necesito intalar la libreria pandas \n",
    "#pip install pandas"
   ]
  },
  {
   "cell_type": "code",
   "execution_count": 387,
   "id": "fa6e26d4",
   "metadata": {},
   "outputs": [],
   "source": [
    "import pandas"
   ]
  },
  {
   "cell_type": "markdown",
   "id": "631121cf",
   "metadata": {},
   "source": [
    "2. Leer el archivo supermarket.csv"
   ]
  },
  {
   "cell_type": "code",
   "execution_count": 388,
   "id": "f4ab42c4",
   "metadata": {},
   "outputs": [
    {
     "data": {
      "text/plain": [
       "'ID_Transaccion,Fecha,Sucursal,ID_Comprador,ID_Producto,Producto,Categoria,Precio_Unitario,Cantidad,Valor_Total\\nT044,2025-09-01 12:34:24,Centro,C061,3001,Manzanas (libra),Frutas y Verduras,0.85,3,2.55\\nT044,2025-09-01 12:34:24,Centro,C061,6001,Gaseosa 2L,Bebidas,2.5,5,12.5\\nT044,2025-09-01 12:34:24,Centro,C061,1002,Queso Fresco 500g,LÃ¡cteos,2.5,4,10.0\\nT044,2025-09-01 12:34:24,Centro,C061,1001,Leche Entera 1L,LÃ¡cteos,1.1,2,2.2\\nT097,2025-09-01 17:59:11,Sur,C061,6002,Jugo de Naranja 1L,Bebidas,1.75,5,8.75\\nT097,2025-09-01 17:59:11,Sur,C061,1003,Yogurt Natural 1L,LÃ¡cteos,1.8,3,5.4\\nT097,2025-09-01 17:59:11,Sur,C061,3004,Lechuga Crespa,Frutas y Verduras,0.45,5,2.25\\nT158,2025-09-01 18:00:48,Norte,C062,3003,Tomate RiÃ±Ã³n (libra),Frutas y Verduras,0.7,4,2.8\\nT158,2025-09-01 18:00:48,Norte,C062,1001,Leche Entera 1L,LÃ¡cteos,1.1,5,5.5\\nT158,2025-09-01 18:00:48,Norte,C062,1003,Yogurt Natural 1L,LÃ¡cteos,1.8,1,1.8\\nT158,2025-09-01 18:00:48,Norte,C062,7001,Shampoo,Cuidado Personal,4.5,5,22.5\\nT046,2025-09-01 19:33:32,Centro,C025,8001,Detergente LÃ\\xadquido 1L,Limpieza,5.0,4,20.0\\nT046,2025-09-01 19:33:32,Centro,C025,7001,Shampoo,Cuidado Personal,4.5,1,4.5\\nT046,2025-09-01 19:33:32,Centro,C025,3002,PlÃ¡tanos (libra),Frutas y Verduras,0.6,1,0.6\\nT040,2025-09-01 20:09:59,Sur,C084,3001,Manzanas (libra),Frutas y Verduras,0.85,2,1.7\\nT040,2025-09-01 20:09:59,Sur,C084,5004,Aceite de Girasol 1L,Granos y Abarrotes,3.0,5,15.0\\nT040,2025-09-01 20:09:59,Sur,C084,3001,Manzanas (libra),Frutas y Verduras,0.85,4,3.4\\nT031,2025-09-02 12:40:49,Centro,C037,3003,Tomate RiÃ±Ã³n (libra),Frutas y Verduras,0.7,4,2.8\\nT031,2025-09-02 12:40:49,Centro,C037,6002,Jugo de Naranja 1L,Bebidas,1.75,5,8.75\\nT172,2025-09-02 12:56:18,Norte,C047,3003,Tomate RiÃ±Ã³n (libra),Frutas y Verduras,0.7,1,0.7\\nT172,2025-09-02 12:56:18,Norte,C047,5001,Arroz (kg),Granos y Abarrotes,1.6,4,6.4\\nT195,2025-09-02 15:24:20,Norte,C062,6002,Jugo de Naranja 1L,Bebidas,1.75,4,7.0\\nT195,2025-09-02 15:24:20,Norte,C062,5004,Aceite de Girasol 1L,Granos y Abarrotes,3.0,1,3.0\\nT195,2025-09-02 15:24:20,Norte,C062,8001,Detergente LÃ\\xadquido 1L,Limpieza,5.0,5,25.0\\nT150,2025-09-02 15:33:35,Centro,C017,3002,PlÃ¡tanos (libra),Frutas y Verduras,0.6,3,1.8\\nT150,2025-09-02 15:33:35,Centro,C017,6002,Jugo de Naranja 1L,Bebidas,1.75,2,3.5\\nT092,2025-09-03 13:30:27,Norte,C054,1002,Queso Fresco 500g,LÃ¡cteos,2.5,2,5.0\\nT171,2025-09-03 14:01:56,Norte,C026,6002,Jugo de Naranja 1L,Bebidas,1.75,5,8.75\\nT171,2025-09-03 14:01:56,Norte,C026,6002,Jugo de Naranja 1L,Bebidas,1.75,3,5.25\\nT187,2025-09-03 14:16:22,Sur,C022,6001,Gaseosa 2L,Bebidas,2.5,3,7.5\\nT038,2025-09-03 18:21:31,Norte,C097,5001,Arroz (kg),Granos y Abarrotes,1.6,5,8.0\\nT038,2025-09-03 18:21:31,Norte,C097,5002,Lentejas (kg),Granos y Abarrotes,1.4,5,7.0\\nT038,2025-09-03 18:21:31,Norte,C097,2002,Croissants (unidad),PanaderÃ\\xada,0.5,4,2.0\\nT038,2025-09-03 18:21:31,Norte,C097,3004,Lechuga Crespa,Frutas y Verduras,0.45,5,2.25\\nT043,2025-09-03 20:26:05,Sur,C079,2001,Pan de Molde Blanco,PanaderÃ\\xada,1.9,3,5.7\\nT043,2025-09-03 20:26:05,Sur,C079,3002,PlÃ¡tanos (libra),Frutas y Verduras,0.6,1,0.6\\nT043,2025-09-03 20:26:05,Sur,C079,6002,Jugo de Naranja 1L,Bebidas,1.75,1,1.75\\nT043,2025-09-03 20:26:05,Sur,C079,3003,Tomate RiÃ±Ã³n (libra),Frutas y Verduras,0.7,3,2.1\\nT043,2025-09-03 20:26:05,Sur,C079,5003,AtÃºn en lata,Granos y Abarrotes,1.2,5,6.0\\nT069,2025-09-03 20:35:45,Norte,C086,3003,Tomate RiÃ±Ã³n (libra),Frutas y Verduras,0.7,1,0.7\\nT069,2025-09-03 20:35:45,Norte,C086,6002,Jugo de Naranja 1L,Bebidas,1.75,1,1.75\\nT192,2025-09-04 12:02:32,Centro,C036,1001,Leche Entera 1L,LÃ¡cteos,1.1,3,3.3\\nT192,2025-09-04 12:02:32,Centro,C036,6002,Jugo de Naranja 1L,Bebidas,1.75,3,5.25\\nT192,2025-09-04 12:02:32,Centro,C036,2001,Pan de Molde Blanco,PanaderÃ\\xada,1.9,5,9.5\\nT095,2025-09-04 20:00:49,Sur,C015,6002,Jugo de Naranja 1L,Bebidas,1.75,1,1.75\\nT095,2025-09-04 20:00:49,Sur,C015,2001,Pan de Molde Blanco,PanaderÃ\\xada,1.9,1,1.9\\nT095,2025-09-04 20:00:49,Sur,C015,5004,Aceite de Girasol 1L,Granos y Abarrotes,3.0,3,9.0\\nT095,2025-09-04 20:00:49,Sur,C015,6001,Gaseosa 2L,Bebidas,2.5,2,5.0\\nT138,2025-09-05 11:00:33,Centro,C019,3004,Lechuga Crespa,Frutas y Verduras,0.45,3,1.35\\nT138,2025-09-05 11:00:33,Centro,C019,5002,Lentejas (kg),Granos y Abarrotes,1.4,2,2.8\\nT063,2025-09-05 12:04:42,Norte,C073,1002,Queso Fresco 500g,LÃ¡cteos,2.5,4,10.0\\nT039,2025-09-05 12:06:07,Centro,C011,7002,Papel HigiÃ©nico (4 rollos),Cuidado Personal,2.2,4,8.8\\nT061,2025-09-05 14:06:28,Centro,C064,5002,Lentejas (kg),Granos y Abarrotes,1.4,5,7.0\\nT061,2025-09-05 14:06:28,Centro,C064,5001,Arroz (kg),Granos y Abarrotes,1.6,1,1.6\\nT134,2025-09-05 17:04:57,Norte,C061,7002,Papel HigiÃ©nico (4 rollos),Cuidado Personal,2.2,4,8.8\\nT107,2025-09-05 19:50:21,Centro,C095,4002,Carne Molida (libra),Carnes,3.5,1,3.5\\nT107,2025-09-05 19:50:21,Centro,C095,1001,Leche Entera 1L,LÃ¡cteos,1.1,4,4.4\\nT107,2025-09-05 19:50:21,Centro,C095,1003,Yogurt Natural 1L,LÃ¡cteos,1.8,3,5.4\\nT107,2025-09-05 19:50:21,Centro,C095,2002,Croissants (unidad),PanaderÃ\\xada,0.5,1,0.5\\nT017,2025-09-06 12:13:53,Centro,C053,1001,Leche Entera 1L,LÃ¡cteos,1.1,4,4.4\\nT017,2025-09-06 12:13:53,Centro,C053,3003,Tomate RiÃ±Ã³n (libra),Frutas y Verduras,0.7,5,3.5\\nT017,2025-09-06 12:13:53,Centro,C053,2002,Croissants (unidad),PanaderÃ\\xada,0.5,5,2.5\\nT017,2025-09-06 12:13:53,Centro,C053,1002,Queso Fresco 500g,LÃ¡cteos,2.5,3,7.5\\nT017,2025-09-06 12:13:53,Centro,C053,6002,Jugo de Naranja 1L,Bebidas,1.75,4,7.0\\nT104,2025-09-06 12:50:17,Sur,C022,3004,Lechuga Crespa,Frutas y Verduras,0.45,5,2.25\\nT104,2025-09-06 12:50:17,Sur,C022,4002,Carne Molida (libra),Carnes,3.5,4,14.0\\nT174,2025-09-06 14:42:35,Centro,C083,7002,Papel HigiÃ©nico (4 rollos),Cuidado Personal,2.2,1,2.2\\nT174,2025-09-06 14:42:35,Centro,C083,7002,Papel HigiÃ©nico (4 rollos),Cuidado Personal,2.2,3,6.6\\nT174,2025-09-06 14:42:35,Centro,C083,6002,Jugo de Naranja 1L,Bebidas,1.75,2,3.5\\nT174,2025-09-06 14:42:35,Centro,C083,3003,Tomate RiÃ±Ã³n (libra),Frutas y Verduras,0.7,3,2.1\\nT035,2025-09-06 15:44:58,Sur,C053,6001,Gaseosa 2L,Bebidas,2.5,1,2.5\\nT176,2025-09-07 11:51:29,Norte,C084,1002,Queso Fresco 500g,LÃ¡cteos,2.5,5,12.5\\nT176,2025-09-07 11:51:29,Norte,C084,4003,JamÃ³n de Pavo 250g,Carnes,2.8,2,5.6\\nT176,2025-09-07 11:51:29,Norte,C084,4001,Pollo Entero (libra),Carnes,2.1,3,6.3\\nT176,2025-09-07 11:51:29,Norte,C084,1001,Leche Entera 1L,LÃ¡cteos,1.1,5,5.5\\nT176,2025-09-07 11:51:29,Norte,C084,3002,PlÃ¡tanos (libra),Frutas y Verduras,0.6,5,3.0\\nT072,2025-09-07 14:08:05,Norte,C053,2002,Croissants (unidad),PanaderÃ\\xada,0.5,4,2.0\\nT072,2025-09-07 14:08:05,Norte,C053,4001,Pollo Entero (libra),Carnes,2.1,1,2.1\\nT072,2025-09-07 14:08:05,Norte,C053,5004,Aceite de Girasol 1L,Granos y Abarrotes,3.0,2,6.0\\nT072,2025-09-07 14:08:05,Norte,C053,7002,Papel HigiÃ©nico (4 rollos),Cuidado Personal,2.2,4,8.8\\nT072,2025-09-07 14:08:05,Norte,C053,4001,Pollo Entero (libra),Carnes,2.1,4,8.4\\nT003,2025-09-07 16:51:11,Sur,C076,3003,Tomate RiÃ±Ã³n (libra),Frutas y Verduras,0.7,1,0.7\\nT003,2025-09-07 16:51:11,Sur,C076,1003,Yogurt Natural 1L,LÃ¡cteos,1.8,2,3.6\\nT003,2025-09-07 16:51:11,Sur,C076,2001,Pan de Molde Blanco,PanaderÃ\\xada,1.9,5,9.5\\nT141,2025-09-08 14:43:41,Centro,C050,3002,PlÃ¡tanos (libra),Frutas y Verduras,0.6,4,2.4\\nT141,2025-09-08 14:43:41,Centro,C050,3004,Lechuga Crespa,Frutas y Verduras,0.45,4,1.8\\nT105,2025-09-08 16:19:32,Sur,C008,4003,JamÃ³n de Pavo 250g,Carnes,2.8,2,5.6\\nT105,2025-09-08 16:19:32,Sur,C008,5004,Aceite de Girasol 1L,Granos y Abarrotes,3.0,2,6.0\\nT105,2025-09-08 16:19:32,Sur,C008,4002,Carne Molida (libra),Carnes,3.5,5,17.5\\nT016,2025-09-09 10:47:20,Centro,C100,1002,Queso Fresco 500g,LÃ¡cteos,2.5,2,5.0\\nT016,2025-09-09 10:47:20,Centro,C100,3002,PlÃ¡tanos (libra),Frutas y Verduras,0.6,4,2.4\\nT016,2025-09-09 10:47:20,Centro,C100,6002,Jugo de Naranja 1L,Bebidas,1.75,1,1.75\\nT016,2025-09-09 10:47:20,Centro,C100,4002,Carne Molida (libra),Carnes,3.5,1,3.5\\nT163,2025-09-09 13:13:31,Norte,C054,7002,Papel HigiÃ©nico (4 rollos),Cuidado Personal,2.2,3,6.6\\nT163,2025-09-09 13:13:31,Norte,C054,4002,Carne Molida (libra),Carnes,3.5,3,10.5\\nT163,2025-09-09 13:13:31,Norte,C054,5004,Aceite de Girasol 1L,Granos y Abarrotes,3.0,2,6.0\\nT116,2025-09-09 13:46:16,Centro,C033,2002,Croissants (unidad),PanaderÃ\\xada,0.5,2,1.0\\nT116,2025-09-09 13:46:16,Centro,C033,5001,Arroz (kg),Granos y Abarrotes,1.6,1,1.6\\nT116,2025-09-09 13:46:16,Centro,C033,1002,Queso Fresco 500g,LÃ¡cteos,2.5,3,7.5\\nT116,2025-09-09 13:46:16,Centro,C033,8001,Detergente LÃ\\xadquido 1L,Limpieza,5.0,1,5.0\\nT136,2025-09-09 15:42:06,Norte,C100,3003,Tomate RiÃ±Ã³n (libra),Frutas y Verduras,0.7,4,2.8\\nT147,2025-09-09 20:53:39,Norte,C087,5003,AtÃºn en lata,Granos y Abarrotes,1.2,1,1.2\\nT147,2025-09-09 20:53:39,Norte,C087,7001,Shampoo,Cuidado Personal,4.5,2,9.0\\nT144,2025-09-10 10:05:56,Sur,C007,5003,AtÃºn en lata,Granos y Abarrotes,1.2,5,6.0\\nT144,2025-09-10 10:05:56,Sur,C007,3002,PlÃ¡tanos (libra),Frutas y Verduras,0.6,4,2.4\\nT054,2025-09-10 13:21:57,Norte,C062,6001,Gaseosa 2L,Bebidas,2.5,2,5.0\\nT151,2025-09-10 15:49:01,Norte,C071,4001,Pollo Entero (libra),Carnes,2.1,3,6.3\\nT177,2025-09-10 17:25:38,Sur,C038,4001,Pollo Entero (libra),Carnes,2.1,1,2.1\\nT177,2025-09-10 17:25:38,Sur,C038,5002,Lentejas (kg),Granos y Abarrotes,1.4,4,5.6\\nT128,2025-09-11 12:57:06,Sur,C085,1003,Yogurt Natural 1L,LÃ¡cteos,1.8,1,1.8\\nT128,2025-09-11 12:57:06,Sur,C085,4003,JamÃ³n de Pavo 250g,Carnes,2.8,3,8.4\\nT096,2025-09-11 17:40:34,Norte,C064,4001,Pollo Entero (libra),Carnes,2.1,3,6.3\\nT096,2025-09-11 17:40:34,Norte,C064,5001,Arroz (kg),Granos y Abarrotes,1.6,2,3.2\\nT096,2025-09-11 17:40:34,Norte,C064,4003,JamÃ³n de Pavo 250g,Carnes,2.8,4,11.2\\nT096,2025-09-11 17:40:34,Norte,C064,3003,Tomate RiÃ±Ã³n (libra),Frutas y Verduras,0.7,1,0.7\\nT179,2025-09-11 18:51:44,Centro,C086,2001,Pan de Molde Blanco,PanaderÃ\\xada,1.9,3,5.7\\nT179,2025-09-11 18:51:44,Centro,C086,1003,Yogurt Natural 1L,LÃ¡cteos,1.8,1,1.8\\nT179,2025-09-11 18:51:44,Centro,C086,1002,Queso Fresco 500g,LÃ¡cteos,2.5,5,12.5\\nT179,2025-09-11 18:51:44,Centro,C086,4001,Pollo Entero (libra),Carnes,2.1,3,6.3\\nT018,2025-09-11 20:59:45,Norte,C054,4002,Carne Molida (libra),Carnes,3.5,2,7.0\\nT018,2025-09-11 20:59:45,Norte,C054,3003,Tomate RiÃ±Ã³n (libra),Frutas y Verduras,0.7,3,2.1\\nT180,2025-09-12 09:05:38,Sur,C047,3004,Lechuga Crespa,Frutas y Verduras,0.45,3,1.35\\nT024,2025-09-12 12:16:08,Centro,C092,2002,Croissants (unidad),PanaderÃ\\xada,0.5,1,0.5\\nT024,2025-09-12 12:16:08,Centro,C092,5001,Arroz (kg),Granos y Abarrotes,1.6,4,6.4\\nT024,2025-09-12 12:16:08,Centro,C092,1003,Yogurt Natural 1L,LÃ¡cteos,1.8,3,5.4\\nT101,2025-09-12 19:18:16,Sur,C077,5003,AtÃºn en lata,Granos y Abarrotes,1.2,1,1.2\\nT106,2025-09-13 16:09:45,Centro,C046,2002,Croissants (unidad),PanaderÃ\\xada,0.5,2,1.0\\nT106,2025-09-13 16:09:45,Centro,C046,3004,Lechuga Crespa,Frutas y Verduras,0.45,5,2.25\\nT106,2025-09-13 16:09:45,Centro,C046,2002,Croissants (unidad),PanaderÃ\\xada,0.5,1,0.5\\nT106,2025-09-13 16:09:45,Centro,C046,3003,Tomate RiÃ±Ã³n (libra),Frutas y Verduras,0.7,1,0.7\\nT145,2025-09-13 18:36:29,Norte,C092,2002,Croissants (unidad),PanaderÃ\\xada,0.5,1,0.5\\nT198,2025-09-13 20:42:39,Norte,C052,4001,Pollo Entero (libra),Carnes,2.1,3,6.3\\nT198,2025-09-13 20:42:39,Norte,C052,6001,Gaseosa 2L,Bebidas,2.5,1,2.5\\nT198,2025-09-13 20:42:39,Norte,C052,5001,Arroz (kg),Granos y Abarrotes,1.6,2,3.2\\nT067,2025-09-13 20:46:11,Norte,C090,2001,Pan de Molde Blanco,PanaderÃ\\xada,1.9,2,3.8\\nT067,2025-09-13 20:46:11,Norte,C090,4003,JamÃ³n de Pavo 250g,Carnes,2.8,5,14.0\\nT001,2025-09-14 18:01:29,Centro,C033,3002,PlÃ¡tanos (libra),Frutas y Verduras,0.6,5,3.0\\nT001,2025-09-14 18:01:29,Centro,C033,7002,Papel HigiÃ©nico (4 rollos),Cuidado Personal,2.2,1,2.2\\nT001,2025-09-14 18:01:29,Centro,C033,6001,Gaseosa 2L,Bebidas,2.5,2,5.0\\nT001,2025-09-14 18:01:29,Centro,C033,4003,JamÃ³n de Pavo 250g,Carnes,2.8,1,2.8\\nT001,2025-09-14 18:01:29,Centro,C033,3004,Lechuga Crespa,Frutas y Verduras,0.45,1,0.45\\nT001,2025-09-14 18:01:29,Centro,C033,2002,Croissants (unidad),PanaderÃ\\xada,0.5,1,0.5\\nT111,2025-09-15 10:11:43,Norte,C019,3002,PlÃ¡tanos (libra),Frutas y Verduras,0.6,3,1.8\\nT124,2025-09-15 15:57:17,Norte,C013,1003,Yogurt Natural 1L,LÃ¡cteos,1.8,4,7.2\\nT124,2025-09-15 15:57:17,Norte,C013,5001,Arroz (kg),Granos y Abarrotes,1.6,3,4.8\\nT131,2025-09-15 18:26:11,Centro,C043,2002,Croissants (unidad),PanaderÃ\\xada,0.5,1,0.5\\nT062,2025-09-15 20:15:11,Centro,C077,2002,Croissants (unidad),PanaderÃ\\xada,0.5,2,1.0\\nT029,2025-09-16 11:52:08,Norte,C020,8001,Detergente LÃ\\xadquido 1L,Limpieza,5.0,2,10.0\\nT029,2025-09-16 11:52:08,Norte,C020,4001,Pollo Entero (libra),Carnes,2.1,3,6.3\\nT075,2025-09-17 12:25:53,Sur,C025,8001,Detergente LÃ\\xadquido 1L,Limpieza,5.0,4,20.0\\nT115,2025-09-17 19:30:40,Centro,C093,2002,Croissants (unidad),PanaderÃ\\xada,0.5,1,0.5\\nT115,2025-09-17 19:30:40,Centro,C093,3004,Lechuga Crespa,Frutas y Verduras,0.45,3,1.35\\nT115,2025-09-17 19:30:40,Centro,C093,3002,PlÃ¡tanos (libra),Frutas y Verduras,0.6,5,3.0\\nT052,2025-09-18 09:23:35,Sur,C084,6002,Jugo de Naranja 1L,Bebidas,1.75,5,8.75\\nT052,2025-09-18 09:23:35,Sur,C084,2002,Croissants (unidad),PanaderÃ\\xada,0.5,5,2.5\\nT052,2025-09-18 09:23:35,Sur,C084,4001,Pollo Entero (libra),Carnes,2.1,2,4.2\\nT140,2025-09-18 09:32:42,Centro,C089,3003,Tomate RiÃ±Ã³n (libra),Frutas y Verduras,0.7,1,0.7\\nT140,2025-09-18 09:32:42,Centro,C089,5003,AtÃºn en lata,Granos y Abarrotes,1.2,1,1.2\\nT140,2025-09-18 09:32:42,Centro,C089,7002,Papel HigiÃ©nico (4 rollos),Cuidado Personal,2.2,1,2.2\\nT140,2025-09-18 09:32:42,Centro,C089,3001,Manzanas (libra),Frutas y Verduras,0.85,2,1.7\\nT140,2025-09-18 09:32:42,Centro,C089,3002,PlÃ¡tanos (libra),Frutas y Verduras,0.6,1,0.6\\nT143,2025-09-19 15:35:12,Centro,C096,3002,PlÃ¡tanos (libra),Frutas y Verduras,0.6,4,2.4\\nT143,2025-09-19 15:35:12,Centro,C096,7001,Shampoo,Cuidado Personal,4.5,1,4.5\\nT169,2025-09-19 17:04:08,Centro,C091,3004,Lechuga Crespa,Frutas y Verduras,0.45,5,2.25\\nT078,2025-09-19 20:58:44,Sur,C007,8001,Detergente LÃ\\xadquido 1L,Limpieza,5.0,4,20.0\\nT078,2025-09-19 20:58:44,Sur,C007,4001,Pollo Entero (libra),Carnes,2.1,5,10.5\\nT078,2025-09-19 20:58:44,Sur,C007,3001,Manzanas (libra),Frutas y Verduras,0.85,3,2.55\\nT160,2025-09-20 19:58:57,Norte,C096,1003,Yogurt Natural 1L,LÃ¡cteos,1.8,2,3.6\\nT160,2025-09-20 19:58:57,Norte,C096,2001,Pan de Molde Blanco,PanaderÃ\\xada,1.9,3,5.7\\nT053,2025-09-21 12:19:55,Norte,C020,5004,Aceite de Girasol 1L,Granos y Abarrotes,3.0,4,12.0\\nT010,2025-09-21 19:46:18,Norte,C072,3002,PlÃ¡tanos (libra),Frutas y Verduras,0.6,5,3.0\\nT010,2025-09-21 19:46:18,Norte,C072,6002,Jugo de Naranja 1L,Bebidas,1.75,3,5.25\\nT127,2025-09-21 21:00:00,Norte,C023,3003,Tomate RiÃ±Ã³n (libra),Frutas y Verduras,0.7,2,1.4\\nT127,2025-09-21 21:00:00,Norte,C023,3003,Tomate RiÃ±Ã³n (libra),Frutas y Verduras,0.7,1,0.7\\nT127,2025-09-21 21:00:00,Norte,C023,6001,Gaseosa 2L,Bebidas,2.5,4,10.0\\nT127,2025-09-21 21:00:00,Norte,C023,3001,Manzanas (libra),Frutas y Verduras,0.85,2,1.7\\nT034,2025-09-22 10:44:03,Norte,C055,1001,Leche Entera 1L,LÃ¡cteos,1.1,2,2.2\\nT034,2025-09-22 10:44:03,Norte,C055,5003,AtÃºn en lata,Granos y Abarrotes,1.2,3,3.6\\nT034,2025-09-22 10:44:03,Norte,C055,1003,Yogurt Natural 1L,LÃ¡cteos,1.8,3,5.4\\nT034,2025-09-22 10:44:03,Norte,C055,4002,Carne Molida (libra),Carnes,3.5,3,10.5\\nT034,2025-09-22 10:44:03,Norte,C055,1002,Queso Fresco 500g,LÃ¡cteos,2.5,3,7.5\\nT170,2025-09-22 18:00:08,Sur,C047,4003,JamÃ³n de Pavo 250g,Carnes,2.8,1,2.8\\nT170,2025-09-22 18:00:08,Sur,C047,3004,Lechuga Crespa,Frutas y Verduras,0.45,1,0.45\\nT170,2025-09-22 18:00:08,Sur,C047,6001,Gaseosa 2L,Bebidas,2.5,5,12.5\\nT004,2025-09-22 18:29:15,Norte,C084,3002,PlÃ¡tanos (libra),Frutas y Verduras,0.6,2,1.2\\nT004,2025-09-22 18:29:15,Norte,C084,7002,Papel HigiÃ©nico (4 rollos),Cuidado Personal,2.2,3,6.6\\nT004,2025-09-22 18:29:15,Norte,C084,3004,Lechuga Crespa,Frutas y Verduras,0.45,3,1.35\\nT004,2025-09-22 18:29:15,Norte,C084,6002,Jugo de Naranja 1L,Bebidas,1.75,4,7.0\\nT004,2025-09-22 18:29:15,Norte,C084,5002,Lentejas (kg),Granos y Abarrotes,1.4,4,5.6\\nT004,2025-09-22 18:29:15,Norte,C084,3004,Lechuga Crespa,Frutas y Verduras,0.45,1,0.45\\nT047,2025-09-22 18:53:14,Centro,C058,5004,Aceite de Girasol 1L,Granos y Abarrotes,3.0,1,3.0\\nT196,2025-09-23 10:28:34,Norte,C020,3001,Manzanas (libra),Frutas y Verduras,0.85,5,4.25\\nT196,2025-09-23 10:28:34,Norte,C020,5002,Lentejas (kg),Granos y Abarrotes,1.4,2,2.8\\nT196,2025-09-23 10:28:34,Norte,C020,7001,Shampoo,Cuidado Personal,4.5,5,22.5\\nT027,2025-09-23 11:31:29,Sur,C042,3002,PlÃ¡tanos (libra),Frutas y Verduras,0.6,3,1.8\\nT027,2025-09-23 11:31:29,Sur,C042,8001,Detergente LÃ\\xadquido 1L,Limpieza,5.0,5,25.0\\nT027,2025-09-23 11:31:29,Sur,C042,5001,Arroz (kg),Granos y Abarrotes,1.6,2,3.2\\nT027,2025-09-23 11:31:29,Sur,C042,3003,Tomate RiÃ±Ã³n (libra),Frutas y Verduras,0.7,2,1.4\\nT055,2025-09-23 14:37:20,Norte,C025,5003,AtÃºn en lata,Granos y Abarrotes,1.2,1,1.2\\nT055,2025-09-23 14:37:20,Norte,C025,3004,Lechuga Crespa,Frutas y Verduras,0.45,5,2.25\\nT055,2025-09-23 14:37:20,Norte,C025,5001,Arroz (kg),Granos y Abarrotes,1.6,2,3.2\\nT083,2025-09-23 18:10:23,Centro,C080,3004,Lechuga Crespa,Frutas y Verduras,0.45,2,0.9\\nT083,2025-09-23 18:10:23,Centro,C080,6002,Jugo de Naranja 1L,Bebidas,1.75,4,7.0\\nT083,2025-09-23 18:10:23,Centro,C080,5004,Aceite de Girasol 1L,Granos y Abarrotes,3.0,4,12.0\\nT083,2025-09-23 18:10:23,Centro,C080,4001,Pollo Entero (libra),Carnes,2.1,5,10.5\\nT083,2025-09-23 18:10:23,Centro,C080,3002,PlÃ¡tanos (libra),Frutas y Verduras,0.6,4,2.4\\nT191,2025-09-23 20:49:39,Sur,C056,3001,Manzanas (libra),Frutas y Verduras,0.85,2,1.7\\nT191,2025-09-23 20:49:39,Sur,C056,8001,Detergente LÃ\\xadquido 1L,Limpieza,5.0,1,5.0\\nT191,2025-09-23 20:49:39,Sur,C056,3001,Manzanas (libra),Frutas y Verduras,0.85,2,1.7\\nT191,2025-09-23 20:49:39,Sur,C056,5001,Arroz (kg),Granos y Abarrotes,1.6,2,3.2\\nT191,2025-09-23 20:49:39,Sur,C056,2001,Pan de Molde Blanco,PanaderÃ\\xada,1.9,1,1.9\\nT186,2025-09-24 10:15:08,Sur,C100,7001,Shampoo,Cuidado Personal,4.5,2,9.0\\nT186,2025-09-24 10:15:08,Sur,C100,4001,Pollo Entero (libra),Carnes,2.1,4,8.4\\nT186,2025-09-24 10:15:08,Sur,C100,1001,Leche Entera 1L,LÃ¡cteos,1.1,4,4.4\\nT086,2025-09-24 12:17:42,Norte,C031,4002,Carne Molida (libra),Carnes,3.5,2,7.0\\nT086,2025-09-24 12:17:42,Norte,C031,3004,Lechuga Crespa,Frutas y Verduras,0.45,3,1.35\\nT086,2025-09-24 12:17:42,Norte,C031,2002,Croissants (unidad),PanaderÃ\\xada,0.5,3,1.5\\nT086,2025-09-24 12:17:42,Norte,C031,5002,Lentejas (kg),Granos y Abarrotes,1.4,2,2.8\\nT020,2025-09-24 14:17:17,Norte,C079,3001,Manzanas (libra),Frutas y Verduras,0.85,5,4.25\\nT020,2025-09-24 14:17:17,Norte,C079,2002,Croissants (unidad),PanaderÃ\\xada,0.5,2,1.0\\nT020,2025-09-24 14:17:17,Norte,C079,2001,Pan de Molde Blanco,PanaderÃ\\xada,1.9,2,3.8\\nT103,2025-09-24 15:58:34,Sur,C004,3001,Manzanas (libra),Frutas y Verduras,0.85,3,2.55\\nT056,2025-09-24 16:11:13,Sur,C089,7001,Shampoo,Cuidado Personal,4.5,3,13.5\\nT056,2025-09-24 16:11:13,Sur,C089,5002,Lentejas (kg),Granos y Abarrotes,1.4,2,2.8\\nT056,2025-09-24 16:11:13,Sur,C089,3003,Tomate RiÃ±Ã³n (libra),Frutas y Verduras,0.7,4,2.8\\nT197,2025-09-24 19:01:22,Sur,C016,3002,PlÃ¡tanos (libra),Frutas y Verduras,0.6,3,1.8\\nT197,2025-09-24 19:01:22,Sur,C016,1003,Yogurt Natural 1L,LÃ¡cteos,1.8,3,5.4\\nT197,2025-09-24 19:01:22,Sur,C016,5002,Lentejas (kg),Granos y Abarrotes,1.4,2,2.8\\nT197,2025-09-24 19:01:22,Sur,C016,4002,Carne Molida (libra),Carnes,3.5,1,3.5\\nT188,2025-09-25 10:27:00,Sur,C084,5001,Arroz (kg),Granos y Abarrotes,1.6,4,6.4\\nT159,2025-09-25 14:37:40,Centro,C098,7002,Papel HigiÃ©nico (4 rollos),Cuidado Personal,2.2,4,8.8\\nT159,2025-09-25 14:37:40,Centro,C098,3003,Tomate RiÃ±Ã³n (libra),Frutas y Verduras,0.7,3,2.1\\nT146,2025-09-26 10:16:47,Sur,C034,5004,Aceite de Girasol 1L,Granos y Abarrotes,3.0,1,3.0\\nT146,2025-09-26 10:16:47,Sur,C034,5004,Aceite de Girasol 1L,Granos y Abarrotes,3.0,3,9.0\\nT146,2025-09-26 10:16:47,Sur,C034,2001,Pan de Molde Blanco,PanaderÃ\\xada,1.9,4,7.6\\nT146,2025-09-26 10:16:47,Sur,C034,5004,Aceite de Girasol 1L,Granos y Abarrotes,3.0,2,6.0\\nT005,2025-09-26 12:45:54,Sur,C086,5002,Lentejas (kg),Granos y Abarrotes,1.4,1,1.4\\nT005,2025-09-26 12:45:54,Sur,C086,3002,PlÃ¡tanos (libra),Frutas y Verduras,0.6,4,2.4\\nT037,2025-09-26 13:01:12,Norte,C017,3002,PlÃ¡tanos (libra),Frutas y Verduras,0.6,3,1.8\\nT037,2025-09-26 13:01:12,Norte,C017,1003,Yogurt Natural 1L,LÃ¡cteos,1.8,2,3.6\\nT037,2025-09-26 13:01:12,Norte,C017,6002,Jugo de Naranja 1L,Bebidas,1.75,4,7.0\\nT037,2025-09-26 13:01:12,Norte,C017,8001,Detergente LÃ\\xadquido 1L,Limpieza,5.0,1,5.0\\nT113,2025-09-26 13:26:08,Norte,C045,3004,Lechuga Crespa,Frutas y Verduras,0.45,1,0.45\\nT091,2025-09-26 17:59:20,Sur,C093,4002,Carne Molida (libra),Carnes,3.5,4,14.0\\nT091,2025-09-26 17:59:20,Sur,C093,4002,Carne Molida (libra),Carnes,3.5,5,17.5\\nT091,2025-09-26 17:59:20,Sur,C093,7001,Shampoo,Cuidado Personal,4.5,1,4.5\\nT122,2025-09-27 09:06:17,Norte,C008,5004,Aceite de Girasol 1L,Granos y Abarrotes,3.0,1,3.0\\nT122,2025-09-27 09:06:17,Norte,C008,1003,Yogurt Natural 1L,LÃ¡cteos,1.8,4,7.2\\nT074,2025-09-27 09:15:09,Centro,C001,6002,Jugo de Naranja 1L,Bebidas,1.75,5,8.75'"
      ]
     },
     "execution_count": 388,
     "metadata": {},
     "output_type": "execute_result"
    }
   ],
   "source": [
    "filename = r'C:/Users/P5E003-O\\Documents/Python/supermarket.csv'\n",
    "file = open(filename, 'r')\n",
    "file.read()"
   ]
  },
  {
   "cell_type": "code",
   "execution_count": 389,
   "id": "2e39c56b",
   "metadata": {},
   "outputs": [],
   "source": [
    "df=pandas.read_csv(filename)"
   ]
  },
  {
   "cell_type": "code",
   "execution_count": 390,
   "id": "4786f426",
   "metadata": {},
   "outputs": [
    {
     "data": {
      "text/plain": [
       "<bound method NDFrame.tail of     ID_Transaccion                Fecha Sucursal ID_Comprador  ID_Producto  \\\n",
       "0             T044  2025-09-01 12:34:24   Centro         C061         3001   \n",
       "1             T044  2025-09-01 12:34:24   Centro         C061         6001   \n",
       "2             T044  2025-09-01 12:34:24   Centro         C061         1002   \n",
       "3             T044  2025-09-01 12:34:24   Centro         C061         1001   \n",
       "4             T097  2025-09-01 17:59:11      Sur         C061         6002   \n",
       "..             ...                  ...      ...          ...          ...   \n",
       "244           T091  2025-09-26 17:59:20      Sur         C093         4002   \n",
       "245           T091  2025-09-26 17:59:20      Sur         C093         7001   \n",
       "246           T122  2025-09-27 09:06:17    Norte         C008         5004   \n",
       "247           T122  2025-09-27 09:06:17    Norte         C008         1003   \n",
       "248           T074  2025-09-27 09:15:09   Centro         C001         6002   \n",
       "\n",
       "                 Producto           Categoria  Precio_Unitario  Cantidad  \\\n",
       "0        Manzanas (libra)   Frutas y Verduras             0.85         3   \n",
       "1              Gaseosa 2L             Bebidas             2.50         5   \n",
       "2       Queso Fresco 500g             Lácteos             2.50         4   \n",
       "3         Leche Entera 1L             Lácteos             1.10         2   \n",
       "4      Jugo de Naranja 1L             Bebidas             1.75         5   \n",
       "..                    ...                 ...              ...       ...   \n",
       "244  Carne Molida (libra)              Carnes             3.50         5   \n",
       "245               Shampoo    Cuidado Personal             4.50         1   \n",
       "246  Aceite de Girasol 1L  Granos y Abarrotes             3.00         1   \n",
       "247     Yogurt Natural 1L             Lácteos             1.80         4   \n",
       "248    Jugo de Naranja 1L             Bebidas             1.75         5   \n",
       "\n",
       "     Valor_Total  \n",
       "0           2.55  \n",
       "1          12.50  \n",
       "2          10.00  \n",
       "3           2.20  \n",
       "4           8.75  \n",
       "..           ...  \n",
       "244        17.50  \n",
       "245         4.50  \n",
       "246         3.00  \n",
       "247         7.20  \n",
       "248         8.75  \n",
       "\n",
       "[249 rows x 10 columns]>"
      ]
     },
     "execution_count": 390,
     "metadata": {},
     "output_type": "execute_result"
    }
   ],
   "source": [
    "df.tail"
   ]
  },
  {
   "cell_type": "code",
   "execution_count": 391,
   "id": "730d18c0",
   "metadata": {},
   "outputs": [
    {
     "data": {
      "text/plain": [
       "<bound method NDFrame.head of     ID_Transaccion                Fecha Sucursal ID_Comprador  ID_Producto  \\\n",
       "0             T044  2025-09-01 12:34:24   Centro         C061         3001   \n",
       "1             T044  2025-09-01 12:34:24   Centro         C061         6001   \n",
       "2             T044  2025-09-01 12:34:24   Centro         C061         1002   \n",
       "3             T044  2025-09-01 12:34:24   Centro         C061         1001   \n",
       "4             T097  2025-09-01 17:59:11      Sur         C061         6002   \n",
       "..             ...                  ...      ...          ...          ...   \n",
       "244           T091  2025-09-26 17:59:20      Sur         C093         4002   \n",
       "245           T091  2025-09-26 17:59:20      Sur         C093         7001   \n",
       "246           T122  2025-09-27 09:06:17    Norte         C008         5004   \n",
       "247           T122  2025-09-27 09:06:17    Norte         C008         1003   \n",
       "248           T074  2025-09-27 09:15:09   Centro         C001         6002   \n",
       "\n",
       "                 Producto           Categoria  Precio_Unitario  Cantidad  \\\n",
       "0        Manzanas (libra)   Frutas y Verduras             0.85         3   \n",
       "1              Gaseosa 2L             Bebidas             2.50         5   \n",
       "2       Queso Fresco 500g             Lácteos             2.50         4   \n",
       "3         Leche Entera 1L             Lácteos             1.10         2   \n",
       "4      Jugo de Naranja 1L             Bebidas             1.75         5   \n",
       "..                    ...                 ...              ...       ...   \n",
       "244  Carne Molida (libra)              Carnes             3.50         5   \n",
       "245               Shampoo    Cuidado Personal             4.50         1   \n",
       "246  Aceite de Girasol 1L  Granos y Abarrotes             3.00         1   \n",
       "247     Yogurt Natural 1L             Lácteos             1.80         4   \n",
       "248    Jugo de Naranja 1L             Bebidas             1.75         5   \n",
       "\n",
       "     Valor_Total  \n",
       "0           2.55  \n",
       "1          12.50  \n",
       "2          10.00  \n",
       "3           2.20  \n",
       "4           8.75  \n",
       "..           ...  \n",
       "244        17.50  \n",
       "245         4.50  \n",
       "246         3.00  \n",
       "247         7.20  \n",
       "248         8.75  \n",
       "\n",
       "[249 rows x 10 columns]>"
      ]
     },
     "execution_count": 391,
     "metadata": {},
     "output_type": "execute_result"
    }
   ],
   "source": [
    "df.head"
   ]
  },
  {
   "cell_type": "code",
   "execution_count": 392,
   "id": "e145c208",
   "metadata": {},
   "outputs": [
    {
     "data": {
      "text/plain": [
       "Sucursal\n",
       "Norte     95\n",
       "Centro    81\n",
       "Sur       73\n",
       "Name: count, dtype: int64"
      ]
     },
     "execution_count": 392,
     "metadata": {},
     "output_type": "execute_result"
    }
   ],
   "source": [
    "df['Sucursal'].value_counts() #Aqui imprimo cuantos items se compraron en cada sucursal"
   ]
  },
  {
   "cell_type": "code",
   "execution_count": 393,
   "id": "613af0a5",
   "metadata": {},
   "outputs": [
    {
     "data": {
      "text/plain": [
       "np.int64(249)"
      ]
     },
     "execution_count": 393,
     "metadata": {},
     "output_type": "execute_result"
    }
   ],
   "source": [
    "df['ID_Comprador'].count() #Aqui veo todos los cmpradores"
   ]
  },
  {
   "cell_type": "code",
   "execution_count": 394,
   "id": "c3abd31a",
   "metadata": {},
   "outputs": [
    {
     "data": {
      "text/plain": [
       "ID_Comprador\n",
       "C084    18\n",
       "C053    11\n",
       "C033    10\n",
       "C062     8\n",
       "C079     8\n",
       "C100     8\n",
       "C086     8\n",
       "C061     8\n",
       "C089     8\n",
       "C025     7\n",
       "C064     6\n",
       "C054     6\n",
       "C047     6\n",
       "C017     6\n",
       "C093     6\n",
       "C020     6\n",
       "C008     5\n",
       "C007     5\n",
       "C080     5\n",
       "C055     5\n",
       "C056     5\n",
       "C097     4\n",
       "C083     4\n",
       "C095     4\n",
       "C015     4\n",
       "C023     4\n",
       "C096     4\n",
       "C031     4\n",
       "C016     4\n",
       "C042     4\n",
       "C092     4\n",
       "C046     4\n",
       "C034     4\n",
       "C052     3\n",
       "C022     3\n",
       "C019     3\n",
       "C036     3\n",
       "C076     3\n",
       "C037     2\n",
       "C098     2\n",
       "C050     2\n",
       "C026     2\n",
       "C072     2\n",
       "C038     2\n",
       "C090     2\n",
       "C013     2\n",
       "C085     2\n",
       "C087     2\n",
       "C077     2\n",
       "C011     1\n",
       "C073     1\n",
       "C071     1\n",
       "C043     1\n",
       "C091     1\n",
       "C058     1\n",
       "C004     1\n",
       "C045     1\n",
       "C001     1\n",
       "Name: count, dtype: int64"
      ]
     },
     "execution_count": 394,
     "metadata": {},
     "output_type": "execute_result"
    }
   ],
   "source": [
    "df['ID_Comprador'].value_counts() #Aqui veo cuantas veces compra cada comprador"
   ]
  },
  {
   "cell_type": "code",
   "execution_count": 395,
   "id": "65f13f45",
   "metadata": {},
   "outputs": [
    {
     "data": {
      "text/plain": [
       "np.int64(58)"
      ]
     },
     "execution_count": 395,
     "metadata": {},
     "output_type": "execute_result"
    }
   ],
   "source": [
    "df['ID_Comprador'].value_counts().count() #Aqui veo cuantos compradores hay"
   ]
  },
  {
   "cell_type": "code",
   "execution_count": 396,
   "id": "2fbcea02",
   "metadata": {},
   "outputs": [
    {
     "data": {
      "text/plain": [
       "Producto\n",
       "Jugo de Naranja 1L            19\n",
       "Plátanos (libra)              19\n",
       "Tomate Riñón (libra)          18\n",
       "Lechuga Crespa                17\n",
       "Croissants (unidad)           16\n",
       "Aceite de Girasol 1L          13\n",
       "Yogurt Natural 1L             13\n",
       "Pollo Entero (libra)          13\n",
       "Arroz (kg)                    12\n",
       "Carne Molida (libra)          11\n",
       "Manzanas (libra)              11\n",
       "Papel Higiénico (4 rollos)    10\n",
       "Pan de Molde Blanco           10\n",
       "Lentejas (kg)                 10\n",
       "Detergente Líquido 1L          9\n",
       "Gaseosa 2L                     9\n",
       "Queso Fresco 500g              9\n",
       "Leche Entera 1L                8\n",
       "Shampoo                        8\n",
       "Atún en lata                   7\n",
       "Jamón de Pavo 250g             7\n",
       "Name: count, dtype: int64"
      ]
     },
     "execution_count": 396,
     "metadata": {},
     "output_type": "execute_result"
    }
   ],
   "source": [
    "df['Producto'].value_counts() #Aqui veo cual es mi producto mas vendido"
   ]
  },
  {
   "cell_type": "code",
   "execution_count": 397,
   "id": "0b11c251",
   "metadata": {},
   "outputs": [
    {
     "data": {
      "text/plain": [
       "Categoria\n",
       "Frutas y Verduras     65\n",
       "Granos y Abarrotes    42\n",
       "Carnes                31\n",
       "Lácteos               30\n",
       "Bebidas               28\n",
       "Panadería             26\n",
       "Cuidado Personal      18\n",
       "Limpieza               9\n",
       "Name: count, dtype: int64"
      ]
     },
     "execution_count": 397,
     "metadata": {},
     "output_type": "execute_result"
    }
   ],
   "source": [
    "df['Categoria'].value_counts()#Aqui veo cual es mi categoria mas vendida"
   ]
  },
  {
   "cell_type": "code",
   "execution_count": 398,
   "id": "4772cd16",
   "metadata": {},
   "outputs": [
    {
     "data": {
      "text/plain": [
       "np.float64(1267.8)"
      ]
     },
     "execution_count": 398,
     "metadata": {},
     "output_type": "execute_result"
    }
   ],
   "source": [
    "df['Valor_Total'].sum() #Suma total de los valores"
   ]
  },
  {
   "cell_type": "code",
   "execution_count": 399,
   "id": "975d205f",
   "metadata": {},
   "outputs": [
    {
     "data": {
      "text/plain": [
       "0       True\n",
       "1       True\n",
       "2       True\n",
       "3       True\n",
       "4      False\n",
       "       ...  \n",
       "244    False\n",
       "245    False\n",
       "246    False\n",
       "247    False\n",
       "248     True\n",
       "Name: Sucursal, Length: 249, dtype: bool"
      ]
     },
     "execution_count": 399,
     "metadata": {},
     "output_type": "execute_result"
    }
   ],
   "source": [
    "df['Sucursal']=='Centro' #Veo cuales items coinciden con ser centro y cuales no"
   ]
  },
  {
   "cell_type": "code",
   "execution_count": 400,
   "id": "7214586d",
   "metadata": {},
   "outputs": [],
   "source": [
    "df_centro= df[df['Sucursal']=='Centro']"
   ]
  },
  {
   "cell_type": "code",
   "execution_count": 401,
   "id": "02a27f24",
   "metadata": {},
   "outputs": [
    {
     "data": {
      "text/plain": [
       "np.float64(328.20000000000005)"
      ]
     },
     "execution_count": 401,
     "metadata": {},
     "output_type": "execute_result"
    }
   ],
   "source": [
    "df_centro['Valor_Total'].sum()"
   ]
  },
  {
   "cell_type": "code",
   "execution_count": 402,
   "id": "00cfc772",
   "metadata": {},
   "outputs": [],
   "source": [
    "df_norte= df[df['Sucursal']=='Norte']"
   ]
  },
  {
   "cell_type": "code",
   "execution_count": 403,
   "id": "d3ce8046",
   "metadata": {},
   "outputs": [
    {
     "data": {
      "text/plain": [
       "np.float64(513.4000000000001)"
      ]
     },
     "execution_count": 403,
     "metadata": {},
     "output_type": "execute_result"
    }
   ],
   "source": [
    "df_norte['Valor_Total'].sum()"
   ]
  },
  {
   "cell_type": "code",
   "execution_count": 404,
   "id": "53e4fb8e",
   "metadata": {},
   "outputs": [],
   "source": [
    "df_sur= df[df['Sucursal']=='Sur']"
   ]
  },
  {
   "cell_type": "code",
   "execution_count": 405,
   "id": "0b22162c",
   "metadata": {},
   "outputs": [
    {
     "data": {
      "text/plain": [
       "np.float64(426.20000000000005)"
      ]
     },
     "execution_count": 405,
     "metadata": {},
     "output_type": "execute_result"
    }
   ],
   "source": [
    "df_sur['Valor_Total'].sum()"
   ]
  },
  {
   "cell_type": "code",
   "execution_count": null,
   "id": "4e303388",
   "metadata": {},
   "outputs": [
    {
     "ename": "KeyError",
     "evalue": "'Valor_Unitario'",
     "output_type": "error",
     "traceback": [
      "\u001b[31m---------------------------------------------------------------------------\u001b[39m",
      "\u001b[31mKeyError\u001b[39m                                  Traceback (most recent call last)",
      "\u001b[36mFile \u001b[39m\u001b[32mc:\\Users\\P5E003-O\\AppData\\Local\\Programs\\Python\\Python313\\Lib\\site-packages\\pandas\\core\\indexes\\base.py:3812\u001b[39m, in \u001b[36mIndex.get_loc\u001b[39m\u001b[34m(self, key)\u001b[39m\n\u001b[32m   3811\u001b[39m \u001b[38;5;28;01mtry\u001b[39;00m:\n\u001b[32m-> \u001b[39m\u001b[32m3812\u001b[39m     \u001b[38;5;28;01mreturn\u001b[39;00m \u001b[38;5;28;43mself\u001b[39;49m\u001b[43m.\u001b[49m\u001b[43m_engine\u001b[49m\u001b[43m.\u001b[49m\u001b[43mget_loc\u001b[49m\u001b[43m(\u001b[49m\u001b[43mcasted_key\u001b[49m\u001b[43m)\u001b[49m\n\u001b[32m   3813\u001b[39m \u001b[38;5;28;01mexcept\u001b[39;00m \u001b[38;5;167;01mKeyError\u001b[39;00m \u001b[38;5;28;01mas\u001b[39;00m err:\n",
      "\u001b[36mFile \u001b[39m\u001b[32mpandas/_libs/index.pyx:167\u001b[39m, in \u001b[36mpandas._libs.index.IndexEngine.get_loc\u001b[39m\u001b[34m()\u001b[39m\n",
      "\u001b[36mFile \u001b[39m\u001b[32mpandas/_libs/index.pyx:196\u001b[39m, in \u001b[36mpandas._libs.index.IndexEngine.get_loc\u001b[39m\u001b[34m()\u001b[39m\n",
      "\u001b[36mFile \u001b[39m\u001b[32mpandas/_libs/hashtable_class_helper.pxi:7088\u001b[39m, in \u001b[36mpandas._libs.hashtable.PyObjectHashTable.get_item\u001b[39m\u001b[34m()\u001b[39m\n",
      "\u001b[36mFile \u001b[39m\u001b[32mpandas/_libs/hashtable_class_helper.pxi:7096\u001b[39m, in \u001b[36mpandas._libs.hashtable.PyObjectHashTable.get_item\u001b[39m\u001b[34m()\u001b[39m\n",
      "\u001b[31mKeyError\u001b[39m: 'Valor_Unitario'",
      "\nThe above exception was the direct cause of the following exception:\n",
      "\u001b[31mKeyError\u001b[39m                                  Traceback (most recent call last)",
      "\u001b[36mCell\u001b[39m\u001b[36m \u001b[39m\u001b[32mIn[406]\u001b[39m\u001b[32m, line 1\u001b[39m\n\u001b[32m----> \u001b[39m\u001b[32m1\u001b[39m \u001b[43mdf\u001b[49m\u001b[43m[\u001b[49m\u001b[33;43m'\u001b[39;49m\u001b[33;43mValor_Unitario\u001b[39;49m\u001b[33;43m'\u001b[39;49m\u001b[43m]\u001b[49m.value_counts().count()\n",
      "\u001b[36mFile \u001b[39m\u001b[32mc:\\Users\\P5E003-O\\AppData\\Local\\Programs\\Python\\Python313\\Lib\\site-packages\\pandas\\core\\frame.py:4113\u001b[39m, in \u001b[36mDataFrame.__getitem__\u001b[39m\u001b[34m(self, key)\u001b[39m\n\u001b[32m   4111\u001b[39m \u001b[38;5;28;01mif\u001b[39;00m \u001b[38;5;28mself\u001b[39m.columns.nlevels > \u001b[32m1\u001b[39m:\n\u001b[32m   4112\u001b[39m     \u001b[38;5;28;01mreturn\u001b[39;00m \u001b[38;5;28mself\u001b[39m._getitem_multilevel(key)\n\u001b[32m-> \u001b[39m\u001b[32m4113\u001b[39m indexer = \u001b[38;5;28;43mself\u001b[39;49m\u001b[43m.\u001b[49m\u001b[43mcolumns\u001b[49m\u001b[43m.\u001b[49m\u001b[43mget_loc\u001b[49m\u001b[43m(\u001b[49m\u001b[43mkey\u001b[49m\u001b[43m)\u001b[49m\n\u001b[32m   4114\u001b[39m \u001b[38;5;28;01mif\u001b[39;00m is_integer(indexer):\n\u001b[32m   4115\u001b[39m     indexer = [indexer]\n",
      "\u001b[36mFile \u001b[39m\u001b[32mc:\\Users\\P5E003-O\\AppData\\Local\\Programs\\Python\\Python313\\Lib\\site-packages\\pandas\\core\\indexes\\base.py:3819\u001b[39m, in \u001b[36mIndex.get_loc\u001b[39m\u001b[34m(self, key)\u001b[39m\n\u001b[32m   3814\u001b[39m     \u001b[38;5;28;01mif\u001b[39;00m \u001b[38;5;28misinstance\u001b[39m(casted_key, \u001b[38;5;28mslice\u001b[39m) \u001b[38;5;129;01mor\u001b[39;00m (\n\u001b[32m   3815\u001b[39m         \u001b[38;5;28misinstance\u001b[39m(casted_key, abc.Iterable)\n\u001b[32m   3816\u001b[39m         \u001b[38;5;129;01mand\u001b[39;00m \u001b[38;5;28many\u001b[39m(\u001b[38;5;28misinstance\u001b[39m(x, \u001b[38;5;28mslice\u001b[39m) \u001b[38;5;28;01mfor\u001b[39;00m x \u001b[38;5;129;01min\u001b[39;00m casted_key)\n\u001b[32m   3817\u001b[39m     ):\n\u001b[32m   3818\u001b[39m         \u001b[38;5;28;01mraise\u001b[39;00m InvalidIndexError(key)\n\u001b[32m-> \u001b[39m\u001b[32m3819\u001b[39m     \u001b[38;5;28;01mraise\u001b[39;00m \u001b[38;5;167;01mKeyError\u001b[39;00m(key) \u001b[38;5;28;01mfrom\u001b[39;00m\u001b[38;5;250m \u001b[39m\u001b[34;01merr\u001b[39;00m\n\u001b[32m   3820\u001b[39m \u001b[38;5;28;01mexcept\u001b[39;00m \u001b[38;5;167;01mTypeError\u001b[39;00m:\n\u001b[32m   3821\u001b[39m     \u001b[38;5;66;03m# If we have a listlike key, _check_indexing_error will raise\u001b[39;00m\n\u001b[32m   3822\u001b[39m     \u001b[38;5;66;03m#  InvalidIndexError. Otherwise we fall through and re-raise\u001b[39;00m\n\u001b[32m   3823\u001b[39m     \u001b[38;5;66;03m#  the TypeError.\u001b[39;00m\n\u001b[32m   3824\u001b[39m     \u001b[38;5;28mself\u001b[39m._check_indexing_error(key)\n",
      "\u001b[31mKeyError\u001b[39m: 'Valor_Unitario'"
     ]
    }
   ],
   "source": []
  }
 ],
 "metadata": {
  "kernelspec": {
   "display_name": "Python 3",
   "language": "python",
   "name": "python3"
  },
  "language_info": {
   "codemirror_mode": {
    "name": "ipython",
    "version": 3
   },
   "file_extension": ".py",
   "mimetype": "text/x-python",
   "name": "python",
   "nbconvert_exporter": "python",
   "pygments_lexer": "ipython3",
   "version": "3.13.7"
  }
 },
 "nbformat": 4,
 "nbformat_minor": 5
}
